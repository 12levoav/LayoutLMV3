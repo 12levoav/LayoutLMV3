{
 "cells": [
  {
   "cell_type": "code",
   "execution_count": 2,
   "metadata": {
    "id": "N1_XdYaYVYEx"
   },
   "outputs": [
    {
     "name": "stdout",
     "output_type": "stream",
     "text": [
      "The operation couldn’t be completed. Unable to locate a Java Runtime that supports apt.\n",
      "Please visit http://www.java.com for information on installing Java.\n",
      "\n",
      "The operation couldn’t be completed. Unable to locate a Java Runtime that supports apt.\n",
      "Please visit http://www.java.com for information on installing Java.\n",
      "\n",
      "Collecting pytesseract\n",
      "  Downloading pytesseract-0.3.10-py3-none-any.whl (14 kB)\n",
      "Requirement already satisfied: Pillow>=8.0.0 in /opt/homebrew/Caskroom/miniforge/base/lib/python3.9/site-packages (from pytesseract) (9.0.1)\n",
      "Requirement already satisfied: packaging>=21.3 in /opt/homebrew/Caskroom/miniforge/base/lib/python3.9/site-packages (from pytesseract) (21.3)\n",
      "Requirement already satisfied: pyparsing!=3.0.5,>=2.0.2 in /opt/homebrew/Caskroom/miniforge/base/lib/python3.9/site-packages (from packaging>=21.3->pytesseract) (3.0.9)\n",
      "Installing collected packages: pytesseract\n",
      "Successfully installed pytesseract-0.3.10\n"
     ]
    }
   ],
   "source": [
    "## install Hugging face Transformers library to load Layoutlmv3 Preprocessor\n",
    "!pip3 install -q git+https://github.com/huggingface/transformers.git\n",
    "## install tesseract OCR Engine\n",
    "## install pytesseract , please click restart runtime button in the cell output and move forward in the notebook\n",
    "! pip3 install pytesseract"
   ]
  },
  {
   "cell_type": "code",
   "execution_count": 1,
   "metadata": {
    "id": "GLMkKFLLWFIC"
   },
   "outputs": [],
   "source": [
    "import os\n",
    "import torch\n",
    "import warnings\n",
    "from PIL import Image\n",
    "\n",
    "warnings.filterwarnings('ignore')"
   ]
  },
  {
   "cell_type": "code",
   "execution_count": 2,
   "metadata": {
    "id": "9175NQJIWJ_Y"
   },
   "outputs": [],
   "source": [
    "# move all inference images from /content to 'images' folder\n",
    "os.makedirs('./images',exist_ok=True)\n",
    "for image in os.listdir():\n",
    "    try:\n",
    "        img = Image.open(f'{os.curdir}/{image}')\n",
    "        os.system(f'mv \"{image}\" \"images/{image}\"')\n",
    "    except:\n",
    "        pass"
   ]
  },
  {
   "cell_type": "code",
   "execution_count": 10,
   "metadata": {
    "id": "uR_iyy25k34W"
   },
   "outputs": [],
   "source": [
    "# defining inference parameters\n",
    "model_path = \"../models/layoutlmv3_4e5_40.pth\" # path to Layoutlmv3 model \n",
    "imag_path = \"./images\" # images folder "
   ]
  },
  {
   "cell_type": "code",
   "execution_count": 11,
   "metadata": {
    "id": "agdzXPVej8aU"
   },
   "outputs": [],
   "source": [
    "# if inference model is pth then convert it to pre-trained format\n",
    "if model_path.endswith('.pth'):\n",
    "    layoutlmv3_model = torch.load(model_path, map_location=torch.device('mps'))\n",
    "    # model_path = '/content/pre_trained_layoutlmv3'\n",
    "    model_path = '../models/lilt_model'\n",
    "    layoutlmv3_model.save_pretrained(model_path)"
   ]
  },
  {
   "cell_type": "code",
   "execution_count": 12,
   "metadata": {
    "colab": {
     "base_uri": "https://localhost:8080/"
    },
    "id": "id28vILoV3mI",
    "outputId": "2bbec63d-3c8f-48f7-86ae-ff1fb39dbb72",
    "scrolled": true
   },
   "outputs": [
    {
     "name": "stdout",
     "output_type": "stream",
     "text": [
      "Error, could not create TSV output file: No such file or directory\n",
      "Error, could not create TSV output file: No such file or directory\n",
      "Error, could not create TSV output file: No such file or directory\n"
     ]
    }
   ],
   "source": [
    "# Call inference module\n",
    "! python3 ../run_inference.py --model_path $model_path --images_path $imag_path"
   ]
  },
  {
   "cell_type": "code",
   "execution_count": null,
   "metadata": {},
   "outputs": [],
   "source": []
  },
  {
   "cell_type": "code",
   "execution_count": null,
   "metadata": {},
   "outputs": [],
   "source": []
  }
 ],
 "metadata": {
  "accelerator": "GPU",
  "colab": {
   "provenance": []
  },
  "gpuClass": "standard",
  "kernelspec": {
   "display_name": "Python 3 (ipykernel)",
   "language": "python",
   "name": "python3"
  },
  "language_info": {
   "codemirror_mode": {
    "name": "ipython",
    "version": 3
   },
   "file_extension": ".py",
   "mimetype": "text/x-python",
   "name": "python",
   "nbconvert_exporter": "python",
   "pygments_lexer": "ipython3",
   "version": "3.9.10"
  }
 },
 "nbformat": 4,
 "nbformat_minor": 1
}
