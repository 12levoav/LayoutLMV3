{
 "cells": [
  {
   "cell_type": "markdown",
   "metadata": {
    "id": "SbPrhpvsnMbb"
   },
   "source": [
    "## Mount drive fsa"
   ]
  },
  {
   "cell_type": "markdown",
   "metadata": {
    "id": "vfAQB77cnLfh"
   },
   "source": [
    "## Installing requirements"
   ]
  },
  {
   "cell_type": "code",
   "execution_count": null,
   "metadata": {
    "colab": {
     "base_uri": "https://localhost:8080/"
    },
    "id": "_c2rynmanL2y",
    "outputId": "b518d50f-6d55-482d-ec6a-2df79e75b132"
   },
   "outputs": [
    {
     "name": "stdout",
     "output_type": "stream",
     "text": [
      "  Installing build dependencies ... \u001B[?25l\u001B[?25hdone\n",
      "  Getting requirements to build wheel ... \u001B[?25l\u001B[?25hdone\n",
      "    Preparing wheel metadata ... \u001B[?25l\u001B[?25hdone\n",
      "\u001B[K     |████████████████████████████████| 120 kB 15.4 MB/s \n",
      "\u001B[K     |████████████████████████████████| 6.6 MB 71.3 MB/s \n",
      "\u001B[?25h  Building wheel for transformers (PEP 517) ... \u001B[?25l\u001B[?25hdone\n",
      "\u001B[K     |████████████████████████████████| 86 kB 2.9 MB/s \n",
      "\u001B[K     |████████████████████████████████| 43 kB 36 kB/s \n",
      "\u001B[K     |████████████████████████████████| 212 kB 66.8 MB/s \n",
      "\u001B[K     |████████████████████████████████| 115 kB 74.1 MB/s \n",
      "\u001B[K     |████████████████████████████████| 127 kB 53.0 MB/s \n",
      "\u001B[K     |████████████████████████████████| 112 kB 77.1 MB/s \n",
      "\u001B[?25h  Building wheel for datasets (setup.py) ... \u001B[?25l\u001B[?25hdone\n",
      "  Building wheel for seqeval (setup.py) ... \u001B[?25l\u001B[?25hdone\n"
     ]
    }
   ],
   "source": [
    "! pip3 install -q git+https://github.com/huggingface/transformers.git\n",
    "! pip3 install -q git+https://github.com/huggingface/datasets.git \"dill<0.3.5\" seqeval\n",
    "! apt install tesseract-ocr\n",
    "! apt install libtesseract-dev\n",
    "! pip3 install pytesseract"
   ]
  },
  {
   "cell_type": "code",
   "execution_count": null,
   "metadata": {},
   "outputs": [],
   "source": [
    "from datasets import load_metric\n",
    "from transformers import TrainingArguments, Trainer\n",
    "from transformers import LayoutLMv3ForTokenClassification,AutoProcessor\n",
    "from transformers.data.data_collator import default_data_collator\n",
    "import torch\n",
    "from datasets import load_from_disk\n"
   ]
  },
  {
   "cell_type": "markdown",
   "metadata": {
    "id": "3L0nDhP-nl_q"
   },
   "source": [
    "## Loading dataset from Drive"
   ]
  },
  {
   "cell_type": "code",
   "execution_count": null,
   "metadata": {
    "id": "OQnYjbS8nnXz"
   },
   "outputs": [],
   "source": [
    "#!/bin/bash\n",
    "IOB_DATA_PATH = \"/content/drive/MyDrive/test_502.zip\"\n",
    "! cd /content/\n",
    "! rm -r data\n",
    "! mkdir data\n",
    "! cp \"$IOB_DATA_PATH\" data/dataset.zip \n",
    "! cd data && unzip -q dataset && rm dataset.zip\n",
    "! cd .."
   ]
  },
  {
   "cell_type": "markdown",
   "metadata": {
    "id": "9cn8X5s4n8t5"
   },
   "source": [
    "## defining preprocessing params and running the script"
   ]
  },
  {
   "cell_type": "code",
   "execution_count": null,
   "metadata": {
    "id": "T_-H4goBn-F7"
   },
   "outputs": [],
   "source": [
    "#!/bin/bash\n",
    "#preprocessing args\n",
    "TEST_SIZE = 0.33\n",
    "DATA_OUTPUT_PATH = \"/content/\""
   ]
  },
  {
   "cell_type": "code",
   "execution_count": null,
   "metadata": {},
   "outputs": [],
   "source": [
    "! rm -r layoutlmv3FineTuning\n",
    "! git clone -b master https://github.com/12levoav/LayoutLMV3"
   ]
  },
  {
   "cell_type": "code",
   "execution_count": null,
   "metadata": {
    "colab": {
     "base_uri": "https://localhost:8080/"
    },
    "id": "2vBFmQ4hoD2p",
    "outputId": "08454f20-aa3a-4630-be68-81c3a3b26b10"
   },
   "outputs": [
    {
     "name": "stdout",
     "output_type": "stream",
     "text": [
      "100% 1/1 [00:12<00:00, 12.60s/ba]\n",
      "Downloading preprocessor_config.json: 100% 275/275 [00:00<00:00, 347kB/s]\n",
      "Downloading tokenizer_config.json: 100% 1.12k/1.12k [00:00<00:00, 1.56MB/s]\n",
      "Downloading config.json: 100% 856/856 [00:00<00:00, 869kB/s]\n",
      "Downloading vocab.json: 100% 878k/878k [00:00<00:00, 39.5MB/s]\n",
      "Downloading merges.txt: 100% 446k/446k [00:00<00:00, 22.0MB/s]\n",
      "100% 1/1 [00:14<00:00, 14.10s/ba]\n",
      "100% 1/1 [00:08<00:00,  8.15s/ba]\n",
      "Flattening the indices: 100% 1/1 [00:00<00:00,  1.68ba/s]\n",
      "Flattening the indices: 100% 1/1 [00:00<00:00,  4.69ba/s]\n"
     ]
    }
   ],
   "source": [
    "! python3 LayoutLMV3/preprocess.py --valid_size $TEST_SIZE --output_path $DATA_OUTPUT_PATH"
   ]
  },
  {
   "cell_type": "code",
   "execution_count": null,
   "metadata": {
    "id": "bU75MUSsohIb"
   },
   "outputs": [],
   "source": [
    "# load datasets\n",
    "train_dataset = load_from_disk(f'/content/train_split')\n",
    "eval_dataset = load_from_disk(f'/content/eval_split')"
   ]
  },
  {
   "cell_type": "code",
   "execution_count": null,
   "metadata": {
    "id": "WEDj23OQHjlR"
   },
   "outputs": [],
   "source": [
    "label_list = train_dataset.features[\"labels\"].feature.names\n",
    "num_labels = len(label_list)\n",
    "label2id, id2label = dict(), dict()\n",
    "for i, label in enumerate(label_list):\n",
    "    label2id[label] = i\n",
    "    id2label[i] = label"
   ]
  },
  {
   "cell_type": "markdown",
   "metadata": {
    "id": "8hBZo3FhoUEJ"
   },
   "source": [
    "## Defining metric"
   ]
  },
  {
   "cell_type": "code",
   "execution_count": null,
   "metadata": {
    "colab": {
     "base_uri": "https://localhost:8080/",
     "height": 49,
     "referenced_widgets": [
      "639c94fcba764187b4d98e6ca79ed9eb",
      "0582557b4beb4d5599e932538682b800",
      "a70ebd4a1ea946cea054f87c0c1f83bb",
      "fa2f1ea544ff426e87ac17e93cbd28f3",
      "e42084ac2453489fa5159c481a347136",
      "d941c738a6c04103b08f9fbe2040075a",
      "625fb93acebe48d49777b97d3db364ab",
      "4dcfa55cf86140908073a605cac80594",
      "5d81f4d4e5b64796b05ac91318e02a83",
      "27b6f6ef2f74485f8b8bece2e07cec4d",
      "03b281ec5e644f0f9c0930f752927676"
     ]
    },
    "id": "RptozkCioxhB",
    "outputId": "cc84a4dc-6791-4ed3-b61a-7ad3b4c668f4"
   },
   "outputs": [
    {
     "data": {
      "application/vnd.jupyter.widget-view+json": {
       "model_id": "639c94fcba764187b4d98e6ca79ed9eb",
       "version_major": 2,
       "version_minor": 0
      },
      "text/plain": [
       "Downloading builder script:   0%|          | 0.00/2.47k [00:00<?, ?B/s]"
      ]
     },
     "metadata": {},
     "output_type": "display_data"
    }
   ],
   "source": [
    "metric = load_metric(\"seqeval\")\n",
    "import numpy as np\n",
    "\n",
    "return_entity_level_metrics = False\n",
    "\n",
    "def compute_metrics(p):\n",
    "    predictions, labels = p\n",
    "    predictions = np.argmax(predictions, axis=2)\n",
    "\n",
    "    # Remove ignored index (special tokens)\n",
    "    true_predictions = [\n",
    "        [label_list[p] for (p, l) in zip(prediction, label) if l != -100]\n",
    "        for prediction, label in zip(predictions, labels)\n",
    "    ]\n",
    "    true_labels = [\n",
    "        [label_list[l] for (p, l) in zip(prediction, label) if l != -100]\n",
    "        for prediction, label in zip(predictions, labels)\n",
    "    ]\n",
    "\n",
    "    results = metric.compute(predictions=true_predictions, references=true_labels,zero_division='0')\n",
    "    if return_entity_level_metrics:\n",
    "        # Unpack nested dictionaries\n",
    "        final_results = {}\n",
    "        for key, value in results.items():\n",
    "            if isinstance(value, dict):\n",
    "                for n, v in value.items():\n",
    "                    final_results[f\"{key}_{n}\"] = v\n",
    "            else:\n",
    "                final_results[key] = value\n",
    "        return final_results\n",
    "    else:\n",
    "        return {\n",
    "            \"precision\": results[\"overall_precision\"],\n",
    "            \"recall\": results[\"overall_recall\"],\n",
    "            \"f1\": results[\"overall_f1\"],\n",
    "            \"accuracy\": results[\"overall_accuracy\"],\n",
    "        }"
   ]
  },
  {
   "cell_type": "markdown",
   "metadata": {
    "id": "9VxWc2tGo8R4"
   },
   "source": [
    "## Loading model and preprocessor (also required for Hugging face trainer)"
   ]
  },
  {
   "cell_type": "code",
   "execution_count": null,
   "metadata": {
    "colab": {
     "base_uri": "https://localhost:8080/",
     "height": 105,
     "referenced_widgets": [
      "7a60d7251ff546a19b9bc90a1d6e168c",
      "3a3f313eb354485aa0d50e71f6e746e2",
      "90a882a3dc094cd4a2184e8caee3a0dd",
      "16f51751245e40589d816fd5873734c2",
      "f4bfc07ce1ef4426a8522c61655c3930",
      "2c751205722e428fa0931e9920ab78d7",
      "2253699f07a4416589f225a910e1d635",
      "fcb01a3814ca4aeb8069b0680525a147",
      "c15576f1124f401bbc8d048de8c0dca0",
      "1592c75c0acb4e148e6e8952d42a9f86",
      "c1136784a6ec4379aa2b6e4b8e37fdc0"
     ]
    },
    "id": "PLcWS0BrpCp0",
    "outputId": "ba4d7a6d-342d-4202-ada4-b1f8d02a1f6a"
   },
   "outputs": [
    {
     "data": {
      "application/vnd.jupyter.widget-view+json": {
       "model_id": "7a60d7251ff546a19b9bc90a1d6e168c",
       "version_major": 2,
       "version_minor": 0
      },
      "text/plain": [
       "Downloading pytorch_model.bin:   0%|          | 0.00/478M [00:00<?, ?B/s]"
      ]
     },
     "metadata": {},
     "output_type": "display_data"
    },
    {
     "name": "stderr",
     "output_type": "stream",
     "text": [
      "Some weights of LayoutLMv3ForTokenClassification were not initialized from the model checkpoint at microsoft/layoutlmv3-base and are newly initialized: ['classifier.dense.bias', 'classifier.out_proj.weight', 'classifier.out_proj.bias', 'classifier.dense.weight']\n",
      "You should probably TRAIN this model on a down-stream task to be able to use it for predictions and inference.\n"
     ]
    }
   ],
   "source": [
    "model = LayoutLMv3ForTokenClassification.from_pretrained(\"microsoft/layoutlmv3-large\",\n",
    "                                                         id2label=id2label,\n",
    "                                                         label2id=label2id)\n",
    "\n",
    "processor = AutoProcessor.from_pretrained(\"microsoft/layoutlmv3-large\", apply_ocr=False)"
   ]
  },
  {
   "cell_type": "markdown",
   "metadata": {
    "id": "gmqcO0gJpSD5"
   },
   "source": [
    "## let's train the model"
   ]
  },
  {
   "cell_type": "code",
   "execution_count": null,
   "metadata": {
    "id": "VNYR31ydPMic"
   },
   "outputs": [],
   "source": [
    "NUM_TRAIN_EPOCHS = 40\n",
    "PER_DEVICE_TRAIN_BATCH_SIZE = 1\n",
    "PER_DEVICE_EVAL_BATCH_SIZE = 1\n",
    "LEARNING_RATE = 4e-5"
   ]
  },
  {
   "cell_type": "code",
   "execution_count": null,
   "metadata": {
    "id": "iInYrU6DpD5p"
   },
   "outputs": [],
   "source": [
    "training_args = TrainingArguments(output_dir=\"test\",\n",
    "                                  # max_steps=1500,\n",
    "                                  num_train_epochs=NUM_TRAIN_EPOCHS,\n",
    "                                  logging_strategy=\"epoch\",\n",
    "                                  save_total_limit=1,\n",
    "                                  per_device_train_batch_size=PER_DEVICE_TRAIN_BATCH_SIZE,\n",
    "                                  per_device_eval_batch_size=PER_DEVICE_EVAL_BATCH_SIZE,\n",
    "                                  learning_rate=LEARNING_RATE,\n",
    "                                  evaluation_strategy=\"no\",\n",
    "                                  save_strategy=\"no\",\n",
    "                                  # eval_steps=100,\n",
    "                                  load_best_model_at_end=True,\n",
    "                                  metric_for_best_model=\"f1\")"
   ]
  },
  {
   "cell_type": "code",
   "execution_count": null,
   "metadata": {
    "id": "9O0rFEiBrGpQ"
   },
   "outputs": [],
   "source": [
    "# Initialize our Trainer\n",
    "trainer = Trainer(\n",
    "    model=model,\n",
    "    args=training_args,\n",
    "    train_dataset=train_dataset,\n",
    "    eval_dataset=eval_dataset,\n",
    "    tokenizer=processor,\n",
    "    data_collator=default_data_collator,\n",
    "    compute_metrics=compute_metrics,\n",
    ")"
   ]
  },
  {
   "cell_type": "code",
   "execution_count": null,
   "metadata": {
    "id": "JUL9WBIopT3J"
   },
   "outputs": [],
   "source": [
    "trainer.train()"
   ]
  },
  {
   "cell_type": "code",
   "execution_count": null,
   "metadata": {
    "colab": {
     "base_uri": "https://localhost:8080/",
     "height": 287
    },
    "id": "ecAkmRwWpXXp",
    "outputId": "2344104e-2f6a-4ae0-d3ff-12a15515afe6"
   },
   "outputs": [
    {
     "name": "stderr",
     "output_type": "stream",
     "text": [
      "***** Running Evaluation *****\n",
      "  Num examples = 96\n",
      "  Batch size = 1\n",
      "/usr/local/lib/python3.7/dist-packages/transformers/modeling_utils.py:703: FutureWarning: The `device` argument is deprecated and will be removed in v5 of Transformers.\n",
      "  \"The `device` argument is deprecated and will be removed in v5 of Transformers.\", FutureWarning\n"
     ]
    },
    {
     "data": {
      "text/html": [
       "\n",
       "    <div>\n",
       "      \n",
       "      <progress value='96' max='96' style='width:300px; height:20px; vertical-align: middle;'></progress>\n",
       "      [96/96 00:10]\n",
       "    </div>\n",
       "    "
      ],
      "text/plain": [
       "<IPython.core.display.HTML object>"
      ]
     },
     "metadata": {},
     "output_type": "display_data"
    },
    {
     "data": {
      "text/plain": [
       "{'epoch': 50.0,\n",
       " 'eval_accuracy': 0.9467279435562173,\n",
       " 'eval_f1': 0.7112092766427388,\n",
       " 'eval_loss': 0.521497368812561,\n",
       " 'eval_precision': 0.6531440162271805,\n",
       " 'eval_recall': 0.7806060606060606,\n",
       " 'eval_runtime': 11.2146,\n",
       " 'eval_samples_per_second': 8.56,\n",
       " 'eval_steps_per_second': 8.56}"
      ]
     },
     "execution_count": 24,
     "metadata": {},
     "output_type": "execute_result"
    }
   ],
   "source": [
    "trainer.evaluate()"
   ]
  },
  {
   "cell_type": "markdown",
   "metadata": {
    "id": "_FgqvqdspcMx"
   },
   "source": [
    "### Save the model for upcoming fine-tuning/infrence"
   ]
  },
  {
   "cell_type": "code",
   "execution_count": null,
   "metadata": {
    "colab": {
     "base_uri": "https://localhost:8080/",
     "height": 169
    },
    "id": "bTbp-i9krEoZ",
    "outputId": "ad7159e6-565e-4fd7-9159-79d3e0f27d70"
   },
   "outputs": [
    {
     "ename": "NameError",
     "evalue": "ignored",
     "output_type": "error",
     "traceback": [
      "\u001B[0;31m---------------------------------------------------------------------------\u001B[0m",
      "\u001B[0;31mNameError\u001B[0m                                 Traceback (most recent call last)",
      "\u001B[0;32m<ipython-input-1-bc31824192f9>\u001B[0m in \u001B[0;36m<module>\u001B[0;34m()\u001B[0m\n\u001B[0;32m----> 1\u001B[0;31m \u001B[0mtorch\u001B[0m\u001B[0;34m.\u001B[0m\u001B[0msave\u001B[0m\u001B[0;34m(\u001B[0m\u001B[0mmodel\u001B[0m\u001B[0;34m,\u001B[0m\u001B[0;34m'/content/drive/MyDrive/LayoutLM_data/layoutLM_Model/'\u001B[0m\u001B[0;34m+\u001B[0m\u001B[0;34m'.pth'\u001B[0m\u001B[0;34m)\u001B[0m\u001B[0;34m\u001B[0m\u001B[0;34m\u001B[0m\u001B[0m\n\u001B[0m",
      "\u001B[0;31mNameError\u001B[0m: name 'torch' is not defined"
     ]
    }
   ],
   "source": [
    "torch.save(model,'/content/drive/MyDrive/Sosias/layout_models/layoutlmv3_720.pth')"
   ]
  },
  {
   "cell_type": "markdown",
   "metadata": {},
   "source": [
    "## Inference"
   ]
  },
  {
   "cell_type": "code",
   "execution_count": null,
   "metadata": {},
   "outputs": [],
   "source": [
    "import os\n",
    "import warnings\n",
    "from PIL import Image\n",
    "warnings.filterwarnings('ignore')"
   ]
  },
  {
   "cell_type": "code",
   "execution_count": null,
   "metadata": {},
   "outputs": [],
   "source": [
    "# move all inference images from /content to 'images' folder\n",
    "\n",
    "os.makedirs('/content/images',exist_ok=True)\n",
    "for image in os.listdir():\n",
    "  try:\n",
    "    img = Image.open(f'{os.curdir}/{image}')\n",
    "    os.system(f'mv \"{image}\" \"images/{image}\"')\n",
    "  except:\n",
    "    pass"
   ]
  },
  {
   "cell_type": "code",
   "execution_count": null,
   "metadata": {},
   "outputs": [],
   "source": [
    "# defining inference parameters\n",
    "model_path = \"/content/drive/MyDrive/Sosias/layout_models/layoutlmv3.pth\" # path to Layoutlmv3 model\n",
    "imag_path = \"/content/images\" # images folder"
   ]
  },
  {
   "cell_type": "code",
   "execution_count": null,
   "metadata": {},
   "outputs": [],
   "source": [
    "# if inference model is pth then convert it to pre-trained format\n",
    "if model_path.endswith('.pth'):\n",
    "  layoutlmv3_model = torch.load(model_path)\n",
    "  # model_path = '/content/pre_trained_layoutlmv3'\n",
    "  model_path = '/content/lilt_model'\n",
    "  layoutlmv3_model.save_pretrained(model_path)"
   ]
  },
  {
   "cell_type": "code",
   "execution_count": null,
   "metadata": {},
   "outputs": [],
   "source": [
    "! python3 La    youtLMV3/run_inference.py --model_path \"$model_path\" --images_path $imag_path"
   ]
  }
 ],
 "metadata": {
  "accelerator": "GPU",
  "colab": {
   "provenance": []
  },
  "gpuClass": "standard",
  "kernelspec": {
   "display_name": "Python 3 (ipykernel)",
   "language": "python",
   "name": "python3"
  },
  "language_info": {
   "codemirror_mode": {
    "name": "ipython",
    "version": 3
   },
   "file_extension": ".py",
   "mimetype": "text/x-python",
   "name": "python",
   "nbconvert_exporter": "python",
   "pygments_lexer": "ipython3",
   "version": "3.9.10"
  },
  "widgets": {
   "application/vnd.jupyter.widget-state+json": {
    "03b281ec5e644f0f9c0930f752927676": {
     "model_module": "@jupyter-widgets/controls",
     "model_module_version": "1.5.0",
     "model_name": "DescriptionStyleModel",
     "state": {
      "_model_module": "@jupyter-widgets/controls",
      "_model_module_version": "1.5.0",
      "_model_name": "DescriptionStyleModel",
      "_view_count": null,
      "_view_module": "@jupyter-widgets/base",
      "_view_module_version": "1.2.0",
      "_view_name": "StyleView",
      "description_width": ""
     }
    },
    "0582557b4beb4d5599e932538682b800": {
     "model_module": "@jupyter-widgets/controls",
     "model_module_version": "1.5.0",
     "model_name": "HTMLModel",
     "state": {
      "_dom_classes": [],
      "_model_module": "@jupyter-widgets/controls",
      "_model_module_version": "1.5.0",
      "_model_name": "HTMLModel",
      "_view_count": null,
      "_view_module": "@jupyter-widgets/controls",
      "_view_module_version": "1.5.0",
      "_view_name": "HTMLView",
      "description": "",
      "description_tooltip": null,
      "layout": "IPY_MODEL_d941c738a6c04103b08f9fbe2040075a",
      "placeholder": "​",
      "style": "IPY_MODEL_625fb93acebe48d49777b97d3db364ab",
      "value": "Downloading builder script: "
     }
    },
    "1592c75c0acb4e148e6e8952d42a9f86": {
     "model_module": "@jupyter-widgets/base",
     "model_module_version": "1.2.0",
     "model_name": "LayoutModel",
     "state": {
      "_model_module": "@jupyter-widgets/base",
      "_model_module_version": "1.2.0",
      "_model_name": "LayoutModel",
      "_view_count": null,
      "_view_module": "@jupyter-widgets/base",
      "_view_module_version": "1.2.0",
      "_view_name": "LayoutView",
      "align_content": null,
      "align_items": null,
      "align_self": null,
      "border": null,
      "bottom": null,
      "display": null,
      "flex": null,
      "flex_flow": null,
      "grid_area": null,
      "grid_auto_columns": null,
      "grid_auto_flow": null,
      "grid_auto_rows": null,
      "grid_column": null,
      "grid_gap": null,
      "grid_row": null,
      "grid_template_areas": null,
      "grid_template_columns": null,
      "grid_template_rows": null,
      "height": null,
      "justify_content": null,
      "justify_items": null,
      "left": null,
      "margin": null,
      "max_height": null,
      "max_width": null,
      "min_height": null,
      "min_width": null,
      "object_fit": null,
      "object_position": null,
      "order": null,
      "overflow": null,
      "overflow_x": null,
      "overflow_y": null,
      "padding": null,
      "right": null,
      "top": null,
      "visibility": null,
      "width": null
     }
    },
    "16f51751245e40589d816fd5873734c2": {
     "model_module": "@jupyter-widgets/controls",
     "model_module_version": "1.5.0",
     "model_name": "HTMLModel",
     "state": {
      "_dom_classes": [],
      "_model_module": "@jupyter-widgets/controls",
      "_model_module_version": "1.5.0",
      "_model_name": "HTMLModel",
      "_view_count": null,
      "_view_module": "@jupyter-widgets/controls",
      "_view_module_version": "1.5.0",
      "_view_name": "HTMLView",
      "description": "",
      "description_tooltip": null,
      "layout": "IPY_MODEL_1592c75c0acb4e148e6e8952d42a9f86",
      "placeholder": "​",
      "style": "IPY_MODEL_c1136784a6ec4379aa2b6e4b8e37fdc0",
      "value": " 478M/478M [00:13&lt;00:00, 43.4MB/s]"
     }
    },
    "2253699f07a4416589f225a910e1d635": {
     "model_module": "@jupyter-widgets/controls",
     "model_module_version": "1.5.0",
     "model_name": "DescriptionStyleModel",
     "state": {
      "_model_module": "@jupyter-widgets/controls",
      "_model_module_version": "1.5.0",
      "_model_name": "DescriptionStyleModel",
      "_view_count": null,
      "_view_module": "@jupyter-widgets/base",
      "_view_module_version": "1.2.0",
      "_view_name": "StyleView",
      "description_width": ""
     }
    },
    "27b6f6ef2f74485f8b8bece2e07cec4d": {
     "model_module": "@jupyter-widgets/base",
     "model_module_version": "1.2.0",
     "model_name": "LayoutModel",
     "state": {
      "_model_module": "@jupyter-widgets/base",
      "_model_module_version": "1.2.0",
      "_model_name": "LayoutModel",
      "_view_count": null,
      "_view_module": "@jupyter-widgets/base",
      "_view_module_version": "1.2.0",
      "_view_name": "LayoutView",
      "align_content": null,
      "align_items": null,
      "align_self": null,
      "border": null,
      "bottom": null,
      "display": null,
      "flex": null,
      "flex_flow": null,
      "grid_area": null,
      "grid_auto_columns": null,
      "grid_auto_flow": null,
      "grid_auto_rows": null,
      "grid_column": null,
      "grid_gap": null,
      "grid_row": null,
      "grid_template_areas": null,
      "grid_template_columns": null,
      "grid_template_rows": null,
      "height": null,
      "justify_content": null,
      "justify_items": null,
      "left": null,
      "margin": null,
      "max_height": null,
      "max_width": null,
      "min_height": null,
      "min_width": null,
      "object_fit": null,
      "object_position": null,
      "order": null,
      "overflow": null,
      "overflow_x": null,
      "overflow_y": null,
      "padding": null,
      "right": null,
      "top": null,
      "visibility": null,
      "width": null
     }
    },
    "2c751205722e428fa0931e9920ab78d7": {
     "model_module": "@jupyter-widgets/base",
     "model_module_version": "1.2.0",
     "model_name": "LayoutModel",
     "state": {
      "_model_module": "@jupyter-widgets/base",
      "_model_module_version": "1.2.0",
      "_model_name": "LayoutModel",
      "_view_count": null,
      "_view_module": "@jupyter-widgets/base",
      "_view_module_version": "1.2.0",
      "_view_name": "LayoutView",
      "align_content": null,
      "align_items": null,
      "align_self": null,
      "border": null,
      "bottom": null,
      "display": null,
      "flex": null,
      "flex_flow": null,
      "grid_area": null,
      "grid_auto_columns": null,
      "grid_auto_flow": null,
      "grid_auto_rows": null,
      "grid_column": null,
      "grid_gap": null,
      "grid_row": null,
      "grid_template_areas": null,
      "grid_template_columns": null,
      "grid_template_rows": null,
      "height": null,
      "justify_content": null,
      "justify_items": null,
      "left": null,
      "margin": null,
      "max_height": null,
      "max_width": null,
      "min_height": null,
      "min_width": null,
      "object_fit": null,
      "object_position": null,
      "order": null,
      "overflow": null,
      "overflow_x": null,
      "overflow_y": null,
      "padding": null,
      "right": null,
      "top": null,
      "visibility": null,
      "width": null
     }
    },
    "3a3f313eb354485aa0d50e71f6e746e2": {
     "model_module": "@jupyter-widgets/controls",
     "model_module_version": "1.5.0",
     "model_name": "HTMLModel",
     "state": {
      "_dom_classes": [],
      "_model_module": "@jupyter-widgets/controls",
      "_model_module_version": "1.5.0",
      "_model_name": "HTMLModel",
      "_view_count": null,
      "_view_module": "@jupyter-widgets/controls",
      "_view_module_version": "1.5.0",
      "_view_name": "HTMLView",
      "description": "",
      "description_tooltip": null,
      "layout": "IPY_MODEL_2c751205722e428fa0931e9920ab78d7",
      "placeholder": "​",
      "style": "IPY_MODEL_2253699f07a4416589f225a910e1d635",
      "value": "Downloading pytorch_model.bin: 100%"
     }
    },
    "4dcfa55cf86140908073a605cac80594": {
     "model_module": "@jupyter-widgets/base",
     "model_module_version": "1.2.0",
     "model_name": "LayoutModel",
     "state": {
      "_model_module": "@jupyter-widgets/base",
      "_model_module_version": "1.2.0",
      "_model_name": "LayoutModel",
      "_view_count": null,
      "_view_module": "@jupyter-widgets/base",
      "_view_module_version": "1.2.0",
      "_view_name": "LayoutView",
      "align_content": null,
      "align_items": null,
      "align_self": null,
      "border": null,
      "bottom": null,
      "display": null,
      "flex": null,
      "flex_flow": null,
      "grid_area": null,
      "grid_auto_columns": null,
      "grid_auto_flow": null,
      "grid_auto_rows": null,
      "grid_column": null,
      "grid_gap": null,
      "grid_row": null,
      "grid_template_areas": null,
      "grid_template_columns": null,
      "grid_template_rows": null,
      "height": null,
      "justify_content": null,
      "justify_items": null,
      "left": null,
      "margin": null,
      "max_height": null,
      "max_width": null,
      "min_height": null,
      "min_width": null,
      "object_fit": null,
      "object_position": null,
      "order": null,
      "overflow": null,
      "overflow_x": null,
      "overflow_y": null,
      "padding": null,
      "right": null,
      "top": null,
      "visibility": null,
      "width": null
     }
    },
    "5d81f4d4e5b64796b05ac91318e02a83": {
     "model_module": "@jupyter-widgets/controls",
     "model_module_version": "1.5.0",
     "model_name": "ProgressStyleModel",
     "state": {
      "_model_module": "@jupyter-widgets/controls",
      "_model_module_version": "1.5.0",
      "_model_name": "ProgressStyleModel",
      "_view_count": null,
      "_view_module": "@jupyter-widgets/base",
      "_view_module_version": "1.2.0",
      "_view_name": "StyleView",
      "bar_color": null,
      "description_width": ""
     }
    },
    "625fb93acebe48d49777b97d3db364ab": {
     "model_module": "@jupyter-widgets/controls",
     "model_module_version": "1.5.0",
     "model_name": "DescriptionStyleModel",
     "state": {
      "_model_module": "@jupyter-widgets/controls",
      "_model_module_version": "1.5.0",
      "_model_name": "DescriptionStyleModel",
      "_view_count": null,
      "_view_module": "@jupyter-widgets/base",
      "_view_module_version": "1.2.0",
      "_view_name": "StyleView",
      "description_width": ""
     }
    },
    "639c94fcba764187b4d98e6ca79ed9eb": {
     "model_module": "@jupyter-widgets/controls",
     "model_module_version": "1.5.0",
     "model_name": "HBoxModel",
     "state": {
      "_dom_classes": [],
      "_model_module": "@jupyter-widgets/controls",
      "_model_module_version": "1.5.0",
      "_model_name": "HBoxModel",
      "_view_count": null,
      "_view_module": "@jupyter-widgets/controls",
      "_view_module_version": "1.5.0",
      "_view_name": "HBoxView",
      "box_style": "",
      "children": [
       "IPY_MODEL_0582557b4beb4d5599e932538682b800",
       "IPY_MODEL_a70ebd4a1ea946cea054f87c0c1f83bb",
       "IPY_MODEL_fa2f1ea544ff426e87ac17e93cbd28f3"
      ],
      "layout": "IPY_MODEL_e42084ac2453489fa5159c481a347136"
     }
    },
    "7a60d7251ff546a19b9bc90a1d6e168c": {
     "model_module": "@jupyter-widgets/controls",
     "model_module_version": "1.5.0",
     "model_name": "HBoxModel",
     "state": {
      "_dom_classes": [],
      "_model_module": "@jupyter-widgets/controls",
      "_model_module_version": "1.5.0",
      "_model_name": "HBoxModel",
      "_view_count": null,
      "_view_module": "@jupyter-widgets/controls",
      "_view_module_version": "1.5.0",
      "_view_name": "HBoxView",
      "box_style": "",
      "children": [
       "IPY_MODEL_3a3f313eb354485aa0d50e71f6e746e2",
       "IPY_MODEL_90a882a3dc094cd4a2184e8caee3a0dd",
       "IPY_MODEL_16f51751245e40589d816fd5873734c2"
      ],
      "layout": "IPY_MODEL_f4bfc07ce1ef4426a8522c61655c3930"
     }
    },
    "90a882a3dc094cd4a2184e8caee3a0dd": {
     "model_module": "@jupyter-widgets/controls",
     "model_module_version": "1.5.0",
     "model_name": "FloatProgressModel",
     "state": {
      "_dom_classes": [],
      "_model_module": "@jupyter-widgets/controls",
      "_model_module_version": "1.5.0",
      "_model_name": "FloatProgressModel",
      "_view_count": null,
      "_view_module": "@jupyter-widgets/controls",
      "_view_module_version": "1.5.0",
      "_view_name": "ProgressView",
      "bar_style": "success",
      "description": "",
      "description_tooltip": null,
      "layout": "IPY_MODEL_fcb01a3814ca4aeb8069b0680525a147",
      "max": 501380823,
      "min": 0,
      "orientation": "horizontal",
      "style": "IPY_MODEL_c15576f1124f401bbc8d048de8c0dca0",
      "value": 501380823
     }
    },
    "a70ebd4a1ea946cea054f87c0c1f83bb": {
     "model_module": "@jupyter-widgets/controls",
     "model_module_version": "1.5.0",
     "model_name": "FloatProgressModel",
     "state": {
      "_dom_classes": [],
      "_model_module": "@jupyter-widgets/controls",
      "_model_module_version": "1.5.0",
      "_model_name": "FloatProgressModel",
      "_view_count": null,
      "_view_module": "@jupyter-widgets/controls",
      "_view_module_version": "1.5.0",
      "_view_name": "ProgressView",
      "bar_style": "success",
      "description": "",
      "description_tooltip": null,
      "layout": "IPY_MODEL_4dcfa55cf86140908073a605cac80594",
      "max": 2472,
      "min": 0,
      "orientation": "horizontal",
      "style": "IPY_MODEL_5d81f4d4e5b64796b05ac91318e02a83",
      "value": 2472
     }
    },
    "c1136784a6ec4379aa2b6e4b8e37fdc0": {
     "model_module": "@jupyter-widgets/controls",
     "model_module_version": "1.5.0",
     "model_name": "DescriptionStyleModel",
     "state": {
      "_model_module": "@jupyter-widgets/controls",
      "_model_module_version": "1.5.0",
      "_model_name": "DescriptionStyleModel",
      "_view_count": null,
      "_view_module": "@jupyter-widgets/base",
      "_view_module_version": "1.2.0",
      "_view_name": "StyleView",
      "description_width": ""
     }
    },
    "c15576f1124f401bbc8d048de8c0dca0": {
     "model_module": "@jupyter-widgets/controls",
     "model_module_version": "1.5.0",
     "model_name": "ProgressStyleModel",
     "state": {
      "_model_module": "@jupyter-widgets/controls",
      "_model_module_version": "1.5.0",
      "_model_name": "ProgressStyleModel",
      "_view_count": null,
      "_view_module": "@jupyter-widgets/base",
      "_view_module_version": "1.2.0",
      "_view_name": "StyleView",
      "bar_color": null,
      "description_width": ""
     }
    },
    "d941c738a6c04103b08f9fbe2040075a": {
     "model_module": "@jupyter-widgets/base",
     "model_module_version": "1.2.0",
     "model_name": "LayoutModel",
     "state": {
      "_model_module": "@jupyter-widgets/base",
      "_model_module_version": "1.2.0",
      "_model_name": "LayoutModel",
      "_view_count": null,
      "_view_module": "@jupyter-widgets/base",
      "_view_module_version": "1.2.0",
      "_view_name": "LayoutView",
      "align_content": null,
      "align_items": null,
      "align_self": null,
      "border": null,
      "bottom": null,
      "display": null,
      "flex": null,
      "flex_flow": null,
      "grid_area": null,
      "grid_auto_columns": null,
      "grid_auto_flow": null,
      "grid_auto_rows": null,
      "grid_column": null,
      "grid_gap": null,
      "grid_row": null,
      "grid_template_areas": null,
      "grid_template_columns": null,
      "grid_template_rows": null,
      "height": null,
      "justify_content": null,
      "justify_items": null,
      "left": null,
      "margin": null,
      "max_height": null,
      "max_width": null,
      "min_height": null,
      "min_width": null,
      "object_fit": null,
      "object_position": null,
      "order": null,
      "overflow": null,
      "overflow_x": null,
      "overflow_y": null,
      "padding": null,
      "right": null,
      "top": null,
      "visibility": null,
      "width": null
     }
    },
    "e42084ac2453489fa5159c481a347136": {
     "model_module": "@jupyter-widgets/base",
     "model_module_version": "1.2.0",
     "model_name": "LayoutModel",
     "state": {
      "_model_module": "@jupyter-widgets/base",
      "_model_module_version": "1.2.0",
      "_model_name": "LayoutModel",
      "_view_count": null,
      "_view_module": "@jupyter-widgets/base",
      "_view_module_version": "1.2.0",
      "_view_name": "LayoutView",
      "align_content": null,
      "align_items": null,
      "align_self": null,
      "border": null,
      "bottom": null,
      "display": null,
      "flex": null,
      "flex_flow": null,
      "grid_area": null,
      "grid_auto_columns": null,
      "grid_auto_flow": null,
      "grid_auto_rows": null,
      "grid_column": null,
      "grid_gap": null,
      "grid_row": null,
      "grid_template_areas": null,
      "grid_template_columns": null,
      "grid_template_rows": null,
      "height": null,
      "justify_content": null,
      "justify_items": null,
      "left": null,
      "margin": null,
      "max_height": null,
      "max_width": null,
      "min_height": null,
      "min_width": null,
      "object_fit": null,
      "object_position": null,
      "order": null,
      "overflow": null,
      "overflow_x": null,
      "overflow_y": null,
      "padding": null,
      "right": null,
      "top": null,
      "visibility": null,
      "width": null
     }
    },
    "f4bfc07ce1ef4426a8522c61655c3930": {
     "model_module": "@jupyter-widgets/base",
     "model_module_version": "1.2.0",
     "model_name": "LayoutModel",
     "state": {
      "_model_module": "@jupyter-widgets/base",
      "_model_module_version": "1.2.0",
      "_model_name": "LayoutModel",
      "_view_count": null,
      "_view_module": "@jupyter-widgets/base",
      "_view_module_version": "1.2.0",
      "_view_name": "LayoutView",
      "align_content": null,
      "align_items": null,
      "align_self": null,
      "border": null,
      "bottom": null,
      "display": null,
      "flex": null,
      "flex_flow": null,
      "grid_area": null,
      "grid_auto_columns": null,
      "grid_auto_flow": null,
      "grid_auto_rows": null,
      "grid_column": null,
      "grid_gap": null,
      "grid_row": null,
      "grid_template_areas": null,
      "grid_template_columns": null,
      "grid_template_rows": null,
      "height": null,
      "justify_content": null,
      "justify_items": null,
      "left": null,
      "margin": null,
      "max_height": null,
      "max_width": null,
      "min_height": null,
      "min_width": null,
      "object_fit": null,
      "object_position": null,
      "order": null,
      "overflow": null,
      "overflow_x": null,
      "overflow_y": null,
      "padding": null,
      "right": null,
      "top": null,
      "visibility": null,
      "width": null
     }
    },
    "fa2f1ea544ff426e87ac17e93cbd28f3": {
     "model_module": "@jupyter-widgets/controls",
     "model_module_version": "1.5.0",
     "model_name": "HTMLModel",
     "state": {
      "_dom_classes": [],
      "_model_module": "@jupyter-widgets/controls",
      "_model_module_version": "1.5.0",
      "_model_name": "HTMLModel",
      "_view_count": null,
      "_view_module": "@jupyter-widgets/controls",
      "_view_module_version": "1.5.0",
      "_view_name": "HTMLView",
      "description": "",
      "description_tooltip": null,
      "layout": "IPY_MODEL_27b6f6ef2f74485f8b8bece2e07cec4d",
      "placeholder": "​",
      "style": "IPY_MODEL_03b281ec5e644f0f9c0930f752927676",
      "value": " 6.33k/? [00:00&lt;00:00, 156kB/s]"
     }
    },
    "fcb01a3814ca4aeb8069b0680525a147": {
     "model_module": "@jupyter-widgets/base",
     "model_module_version": "1.2.0",
     "model_name": "LayoutModel",
     "state": {
      "_model_module": "@jupyter-widgets/base",
      "_model_module_version": "1.2.0",
      "_model_name": "LayoutModel",
      "_view_count": null,
      "_view_module": "@jupyter-widgets/base",
      "_view_module_version": "1.2.0",
      "_view_name": "LayoutView",
      "align_content": null,
      "align_items": null,
      "align_self": null,
      "border": null,
      "bottom": null,
      "display": null,
      "flex": null,
      "flex_flow": null,
      "grid_area": null,
      "grid_auto_columns": null,
      "grid_auto_flow": null,
      "grid_auto_rows": null,
      "grid_column": null,
      "grid_gap": null,
      "grid_row": null,
      "grid_template_areas": null,
      "grid_template_columns": null,
      "grid_template_rows": null,
      "height": null,
      "justify_content": null,
      "justify_items": null,
      "left": null,
      "margin": null,
      "max_height": null,
      "max_width": null,
      "min_height": null,
      "min_width": null,
      "object_fit": null,
      "object_position": null,
      "order": null,
      "overflow": null,
      "overflow_x": null,
      "overflow_y": null,
      "padding": null,
      "right": null,
      "top": null,
      "visibility": null,
      "width": null
     }
    }
   }
  }
 },
 "nbformat": 4,
 "nbformat_minor": 1
}
